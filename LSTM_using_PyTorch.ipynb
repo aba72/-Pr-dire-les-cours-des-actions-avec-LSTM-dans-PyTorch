{
 "cells": [
  {
   "cell_type": "markdown",
   "metadata": {},
   "source": [
    "# **Prédire les cours des actions avec LSTM dans PyTorch**\n"
   ]
  },
  {
   "cell_type": "markdown",
   "metadata": {},
   "source": [
    "Dans ce projet objectif est de créer un modèle simple permettant de prédire la valeur d'une action à partir des valeurs quotidiennes d'ouverture, de plus haut, de plus bas et de clôture. Le marché boursier étant extrêmement volatil, de nombreux facteurs peuvent influencer et influencer la valeur d'une action. Ce tutoriel utilise les paramètres suivants pour les données boursières :\n",
    "\n",
    "- **Ouverture** : Cours de l'action à l'ouverture du marché.\n",
    "- **Haut** : Cours le plus élevé auquel une action se négocie pendant les heures de bourse.\n",
    "- **Bas** : Cours le plus bas auquel une action se négocie pendant les heures de bourse.\n",
    "- **Clôture** : Cours de l'action à la clôture du marché. Ce cours est utilisé par les institutions financières comme valeur d'une action un jour donné, car il prend en compte tous les événements de la journée et les fluctuations éventuelles du marché.\n",
    "\n",
    "L'importance globale de la valeur de clôture et son utilisation comme référence pour la valeur quotidienne d'une action indiquent que c'est cette valeur qui doit être utilisée dans la prédiction. Pour ce faire, vous pouvez créer un modèle qui utilise la mémoire à long terme (LSTM), une technique RNN, pour stocker et analyser de grands ensembles de données de séries chronologiques."
   ]
  },
  {
   "cell_type": "markdown",
   "metadata": {},
   "source": [
    "## __Table des matières__\n",
    "\n",
    "1. [Introduction](#Introduction)\n",
    "   1. [Recurrent neural network](#Recurrent-neural-network)\n",
    "   2. [Long Short-Term Memory](#Long-Short-Term-Memory)\n",
    "2. [Objectives](#Objectives)\n",
    "3. [Setup](#Setup)\n",
    "   1. [Installing required libraries](#Installing-Required-Libraries)\n",
    "   2. [Importing required libraries](#Importing-Required-Libraries)\n",
    "4. [Read and load the data](#Read-and-load-the-data)\n",
    "5. [Scale the data](#Scale-the-data)\n",
    "6. [Create test and training sets](#Create-test-and-training-sets)\n",
    "7. [Define the LSTM and forward method](#Define-the-LSTM-and-forward-method)\n",
    "8. [Train the model](#Train-the-model)\n",
    "9. [Evaluate the model](#Evaluate-the-model)\n",
    "\n"
   ]
  },
  {
   "cell_type": "markdown",
   "metadata": {},
   "source": [
    "## Introduction\n",
    "### Réseau de neurones récurrents\n",
    "*<strong>Les réseaux de neurones récurrents</strong>*, ou RNN, sont largement utilisés dans divers supports. Ils exploitent les données séquentielles pour effectuer des prédictions. La mémoire séquentielle** facilite la reconnaissance des modèles et la réplication des données d'entrée par le réseau de neurones. Pour réaliser l'apprentissage par mémoire séquentielle, un **réseau de neurones à rétroaction** doté de mécanismes de boucle est implémenté.\n",
    "\n",
    "Il existe *trois* types de couches : **entrée, cachée et sortie**. Des boucles transmettent les informations précédentes, permettant au modèle de stocker et d'apprendre les données de manière *séquentielle*. La complexité d'un état caché dépend de la quantité d'informations « historiques » stockées ; il s'agit d'une représentation de toutes les étapes précédentes. Lors de l'entraînement d'un modèle, une fois qu'une prédiction est établie à partir d'une sortie donnée, une **fonction de perte** est utilisée pour déterminer l'erreur entre la sortie prédite et la sortie réelle. L'entraînement du modèle se fait par rétropropagation. Le poids de chaque nœud du réseau neuronal est ajusté en fonction du gradient correspondant, calculé lors de la **rétropropagation**.\n",
    "\n",
    "L'avantage d'utiliser des données séquentielles pour prédire avec succès certains résultats est particulièrement pertinent lors de l'analyse de **données de séries chronologiques**. \n"
   ]
  },
  {
   "cell_type": "markdown",
   "metadata": {},
   "source": [
    "### [Mémoire à long terme et à court terme](https://ieeexplore.ieee.org/abstract/document/6795963)\n",
    "\n",
    "La rétropropagation récurrente peut être très chronophage en raison d'un flux d'erreurs insuffisant et décroissant. Pour résoudre ce problème, un type de RNN appelé **Mémoire à long terme et à court terme (LSTM)** est utilisé. Les [**LSTM**](https://developer.ibm.com/tutorials/iot-deep-learning-anomaly-detection-1/) permettent de suivre les dépendances à long terme en utilisant des gradients pour modifier le modèle, plutôt que des rétropropagations. Ces attributs sont particulièrement utiles lors de l'examen de **données de séries chronologiques**. Plus les données historiques sont nombreuses, plus le modèle peut s'entraîner efficacement et produire des résultats plus précis.\n",
    "\n",
    "Une LSTM possède une variable d'état interne qui est modifiée en fonction des pondérations et des biais via des portes d'opération. Traditionnellement, un LSTM comprend trois portes d'opération : la porte d'oubli, la porte d'entrée et la porte de sortie. L'architecture de la mémoire à long terme (MLT) repose sur les fonctions $tanh$ et $sigmoid$ implémentées dans le réseau. La fonction $tanh$ garantit que les valeurs du réseau restent comprises entre -1 et 1, tandis que la fonction $sigmoid$ détermine si les données doivent être mémorisées ou oubliées. De plus,\n",
    "\n",
    "Les représentations mathématiques de chaque porte sont les suivantes :\n",
    "\n",
    "<strong>Porte d'oubli</strong> : $$f_t = \\sigma(w_f*[h_{t-1},x_t] + b_f)$$\n",
    "\n",
    "<strong>Porte d'entrée</strong> : $$i_t = \\sigma(w_f*[h_{t-1},x_t] + b_i)$$\n",
    "\n",
    "<strong>Porte de sortie</strong> : $$O_t = \\sigma(w_f*[h_{t-1},x_t] + b_o)$$\n",
    "\n",
    "Où :\n",
    "* $w_f$ = matrice de pondération entre la porte d'oubli et la porte d'entrée\n",
    "* $h_{t-1}$ = état caché précédent\n",
    "* $x_t$ = entrée\n",
    "* $b_f$ = biais de connexion à la porte d'oubli\n",
    "* $b_i$ = biais de connexion à la porte d'entrée\n",
    "* $b_o$ = biais de connexion à la porte de sortie\n",
    "* $\\sigma$ = la fonction sigmoïde\n",
    "\n",
    "Chaque porte modifie l'entrée de manière différente. La porte d'oubli détermine les données pertinentes à conserver et celles qui peuvent être « oubliées ». La porte d'entrée analyse les informations à ajouter à l'étape en cours, et la porte de sortie finalise l'état caché en cours. Chacune de ces portes permet de stocker et d'analyser efficacement les données séquentielles, permettant ainsi de développer un modèle prédictif précis.\n",
    "\n",
    "[***Source :** *S. Hochreiter et J. Schmidhuber, « Long Short-Term Memory », dans Neural Computation, vol. 9, n° 8, pp.1735-1780, 15 novembre 1997, doi : 10.1162/neco.1997.9.8.1735.*](https://ieeexplore.ieee.org/abstract/document/6795963)"
   ]
  },
  {
   "cell_type": "markdown",
   "metadata": {},
   "source": [
    "----\n"
   ]
  },
  {
   "cell_type": "markdown",
   "metadata": {},
   "source": [
    "## Installation\n"
   ]
  },
  {
   "cell_type": "markdown",
   "metadata": {},
   "source": [
    "Vous utiliserez les bibliothèques suivantes :\n",
    "\n",
    "* [`pandas`](https://pandas.pydata.org/?utm_medium=Exinfluencer&utm_source=Exinfluencer&utm_content=000026UJ&utm_term=10006555&utm_id=NA-SkillsNetwork-Channel-SkillsNetworkCoursesIBMML0187ENSkillsNetwork31430127-2021-01-01) pour la gestion des données. * [`numpy`](https://numpy.org/?utm_medium=Exinfluencer&utm_source=Exinfluencer&utm_content=000026UJ&utm_term=10006555&utm_id=NA-SkillsNetwork-Channel-SkillsNetworkCoursesIBMML0187ENSkillsNetwork31430127-2021-01-01) pour les opérations mathématiques. * [`sklearn`](https://scikit-learn.org/stable/?utm_medium=Exinfluencer&utm_source=Exinfluencer&utm_content=000026UJ&utm_term=10006555&utm_id=NA-SkillsNetwork-Channel-SkillsNetworkCoursesIBMML0187ENSkillsNetwork31430127-2021-01-01) pour les fonctions liées à l'apprentissage automatique et à son pipeline.\n",
    "* [`pytorch`](https://pytorch.org/docs/stable/torch.html) pour former et construire les couches des réseaux neuronaux. * [`seaborn`](https://seaborn.pydata.org/?utm_medium=Exinfluencer&utm_source=Exinfluencer&utm_content=000026UJ&utm_term=10006555&utm_id=NA-SkillsNetwork-Channel-SkillsNetworkCoursesIBMML0187ENSkillsNetwork31430127-2021-01-01) pour visualiser les données. * [`matplotlib`](https://matplotlib.org/?utm_medium=Exinfluencer&utm_source=Exinfluencer&utm_content=000026UJ&utm_term=10006555&utm_id=NA-SkillsNetwork-Channel-SkillsNetworkCoursesIBMML0187ENSkillsNetwork31430127-2021-01-01) pour des outils de traçage supplémentaires.\n"
   ]
  },
  {
   "cell_type": "markdown",
   "metadata": {},
   "source": [
    "### Installation des bibliothèques requises\n"
   ]
  },
  {
   "cell_type": "code",
   "execution_count": 1,
   "metadata": {},
   "outputs": [],
   "source": [
    "!pip install torch==\"2.3.0\"\n",
    "!pip install pandas==\"2.2.2\"\n",
    "!pip install matplotlib==\"3.8.4\"\n",
    "!pip install scikit-learn==\"1.4.2\""
   ]
  },
  {
   "cell_type": "markdown",
   "metadata": {},
   "source": [
    "### Importation des bibliothèques requises et chargement des données"
   ]
  },
  {
   "cell_type": "code",
   "execution_count": 2,
   "metadata": {},
   "outputs": [],
   "source": [
    "import torch\n",
    "from torch import nn\n",
    "import matplotlib.pyplot as plt\n",
    "import pandas as pd"
   ]
  },
  {
   "cell_type": "code",
   "execution_count": 3,
   "metadata": {},
   "outputs": [],
   "source": [
    "df = pd.read_csv(\"https://cf-courses-data.s3.us.cloud-object-storage.appdomain.cloud/g5XM0-gTrOquyZcBxcJAfw/StockData.csv\")\n",
    "df.drop(['Unnamed: 0'], axis=1, inplace = True)"
   ]
  },
  {
   "cell_type": "code",
   "execution_count": 4,
   "metadata": {},
   "outputs": [
    {
     "data": {
      "text/html": [
       "<div>\n",
       "<style scoped>\n",
       "    .dataframe tbody tr th:only-of-type {\n",
       "        vertical-align: middle;\n",
       "    }\n",
       "\n",
       "    .dataframe tbody tr th {\n",
       "        vertical-align: top;\n",
       "    }\n",
       "\n",
       "    .dataframe thead th {\n",
       "        text-align: right;\n",
       "    }\n",
       "</style>\n",
       "<table border=\"1\" class=\"dataframe\">\n",
       "  <thead>\n",
       "    <tr style=\"text-align: right;\">\n",
       "      <th></th>\n",
       "      <th>Date</th>\n",
       "      <th>Open</th>\n",
       "      <th>High</th>\n",
       "      <th>Low</th>\n",
       "      <th>Close</th>\n",
       "    </tr>\n",
       "  </thead>\n",
       "  <tbody>\n",
       "    <tr>\n",
       "      <th>0</th>\n",
       "      <td>2018-03-27</td>\n",
       "      <td>173.68</td>\n",
       "      <td>175.15</td>\n",
       "      <td>166.92</td>\n",
       "      <td>168.340</td>\n",
       "    </tr>\n",
       "    <tr>\n",
       "      <th>1</th>\n",
       "      <td>2018-03-26</td>\n",
       "      <td>168.07</td>\n",
       "      <td>173.10</td>\n",
       "      <td>166.44</td>\n",
       "      <td>172.770</td>\n",
       "    </tr>\n",
       "    <tr>\n",
       "      <th>2</th>\n",
       "      <td>2018-03-23</td>\n",
       "      <td>168.39</td>\n",
       "      <td>169.92</td>\n",
       "      <td>164.94</td>\n",
       "      <td>164.940</td>\n",
       "    </tr>\n",
       "    <tr>\n",
       "      <th>3</th>\n",
       "      <td>2018-03-22</td>\n",
       "      <td>170.00</td>\n",
       "      <td>172.68</td>\n",
       "      <td>168.60</td>\n",
       "      <td>168.845</td>\n",
       "    </tr>\n",
       "    <tr>\n",
       "      <th>4</th>\n",
       "      <td>2018-03-21</td>\n",
       "      <td>175.04</td>\n",
       "      <td>175.09</td>\n",
       "      <td>171.26</td>\n",
       "      <td>171.270</td>\n",
       "    </tr>\n",
       "  </tbody>\n",
       "</table>\n",
       "</div>"
      ],
      "text/plain": [
       "         Date    Open    High     Low    Close\n",
       "0  2018-03-27  173.68  175.15  166.92  168.340\n",
       "1  2018-03-26  168.07  173.10  166.44  172.770\n",
       "2  2018-03-23  168.39  169.92  164.94  164.940\n",
       "3  2018-03-22  170.00  172.68  168.60  168.845\n",
       "4  2018-03-21  175.04  175.09  171.26  171.270"
      ]
     },
     "execution_count": 4,
     "metadata": {},
     "output_type": "execute_result"
    }
   ],
   "source": [
    "df.head()"
   ]
  },
  {
   "cell_type": "markdown",
   "metadata": {},
   "source": [
    "Commençons par examiner les données.\n"
   ]
  },
  {
   "cell_type": "code",
   "execution_count": 5,
   "metadata": {},
   "outputs": [
    {
     "name": "stdout",
     "output_type": "stream",
     "text": [
      "Information about the dataset\n",
      "<class 'pandas.core.frame.DataFrame'>\n",
      "RangeIndex: 9400 entries, 0 to 9399\n",
      "Data columns (total 5 columns):\n",
      " #   Column  Non-Null Count  Dtype         \n",
      "---  ------  --------------  -----         \n",
      " 0   Date    9400 non-null   datetime64[ns]\n",
      " 1   Open    9400 non-null   float64       \n",
      " 2   High    9400 non-null   float64       \n",
      " 3   Low     9400 non-null   float64       \n",
      " 4   Close   9400 non-null   float64       \n",
      "dtypes: datetime64[ns](1), float64(4)\n",
      "memory usage: 367.3 KB\n",
      "None\n"
     ]
    }
   ],
   "source": [
    "stock_data = df\n",
    "# Convert the date column into a Datetime object:\n",
    "stock_data['Date'] = pd.to_datetime(df.Date)\n",
    "print(\"Information about the dataset\", end = \"\\n\")\n",
    "print(stock_data.info())"
   ]
  },
  {
   "cell_type": "markdown",
   "metadata": {},
   "source": [
    "Nous pouvons voir qu'il y a un total de 5 colonnes, les colonnes que nous voulons saisir dans le modèle sont les quatre dernières colonnes : index 1-4.\n"
   ]
  },
  {
   "cell_type": "markdown",
   "metadata": {},
   "source": [
    "En imprimant les 5 premiers et derniers éléments, nous constatons que les données sont classées par ordre inverse. Les données les plus récentes sont stockées au début de l'ensemble et les plus anciennes à la fin. Pour notre modèle, nous devons saisir les données de la plus ancienne à la plus récente. La méthode Pandas « sort_values » permet de trier les données par ordre chronologique.\n"
   ]
  },
  {
   "cell_type": "code",
   "execution_count": 6,
   "metadata": {},
   "outputs": [
    {
     "name": "stdout",
     "output_type": "stream",
     "text": [
      "First five elements in the dataset\n",
      "        Date    Open    High     Low    Close\n",
      "0 2018-03-27  173.68  175.15  166.92  168.340\n",
      "1 2018-03-26  168.07  173.10  166.44  172.770\n",
      "2 2018-03-23  168.39  169.92  164.94  164.940\n",
      "3 2018-03-22  170.00  172.68  168.60  168.845\n",
      "4 2018-03-21  175.04  175.09  171.26  171.270\n",
      "Last five elements in the dataset\n",
      "           Date   Open   High    Low  Close\n",
      "9395 1980-12-18  26.63  26.75  26.63  26.63\n",
      "9396 1980-12-17  25.87  26.00  25.87  25.87\n",
      "9397 1980-12-16  25.37  25.37  25.25  25.25\n",
      "9398 1980-12-15  27.38  27.38  27.25  27.25\n",
      "9399 1980-12-12  28.75  28.87  28.75  28.75\n"
     ]
    }
   ],
   "source": [
    "print(\"First five elements in the dataset\", end = \"\\n\")\n",
    "print(stock_data.head(5))\n",
    "print(\"Last five elements in the dataset\", end = \"\\n\")\n",
    "print(stock_data.tail(5))"
   ]
  },
  {
   "cell_type": "markdown",
   "metadata": {},
   "source": [
    "Après avoir appliqué la méthode « sort_values », nous pouvons utiliser la méthode « head » pour imprimer les cinq premiers points de données. Nos données sont désormais dans le bon ordre.\n"
   ]
  },
  {
   "cell_type": "code",
   "execution_count": 7,
   "metadata": {},
   "outputs": [
    {
     "name": "stdout",
     "output_type": "stream",
     "text": [
      "           Date   Open   High    Low  Close\n",
      "9399 1980-12-12  28.75  28.87  28.75  28.75\n",
      "9398 1980-12-15  27.38  27.38  27.25  27.25\n",
      "9397 1980-12-16  25.37  25.37  25.25  25.25\n",
      "9396 1980-12-17  25.87  26.00  25.87  25.87\n",
      "9395 1980-12-18  26.63  26.75  26.63  26.63\n"
     ]
    }
   ],
   "source": [
    "stock_data = stock_data.sort_values(by=\"Date\")\n",
    "print(stock_data.head())"
   ]
  },
  {
   "cell_type": "markdown",
   "metadata": {},
   "source": [
    "Pour créer le modèle multivarié, nous pouvons créer un tableau contenant uniquement les variables que nous souhaitons saisir. Nous n'avons plus besoin des colonnes de date et d'index, car les données sont déjà triées."
   ]
  },
  {
   "cell_type": "markdown",
   "metadata": {},
   "source": [
    "## Scale the data\n"
   ]
  },
  {
   "cell_type": "code",
   "execution_count": 8,
   "metadata": {},
   "outputs": [
    {
     "name": "stdout",
     "output_type": "stream",
     "text": [
      "       High    Low   Open  Close\n",
      "9399  28.87  28.75  28.75  28.75\n",
      "9398  27.38  27.25  27.38  27.25\n",
      "9397  25.37  25.25  25.37  25.25\n",
      "9396  26.00  25.87  25.87  25.87\n",
      "9395  26.75  26.63  26.63  26.63\n"
     ]
    }
   ],
   "source": [
    "from sklearn.preprocessing import MinMaxScaler\n",
    "price = stock_data[['High','Low','Open','Close']]\n",
    "print(price[:5])"
   ]
  },
  {
   "cell_type": "markdown",
   "metadata": {},
   "source": [
    "Après avoir isolé les variables cibles, l'étape suivante consiste à normaliser les valeurs en les représentant entre -1 et 1. Cela permet d'uniformiser les données. Ainsi, quelle que soit la plage de valeurs, chaque point de données aura le même impact sur le modèle.\n"
   ]
  },
  {
   "cell_type": "markdown",
   "metadata": {},
   "source": [
    "Notez que normalement, nous ne devrions pas exposer les données de test au scaler. Cependant, ce dernier n'étant qu'un scaler min-max, les seules informations pertinentes divulguées sont les cours boursiers les plus élevés et les plus bas. Dans ce cas, nous pouvons supposer que son effet est négligeable.\n"
   ]
  },
  {
   "cell_type": "code",
   "execution_count": 9,
   "metadata": {},
   "outputs": [
    {
     "name": "stdout",
     "output_type": "stream",
     "text": [
      "[[-0.94884358 -0.94844388 -0.94899391 -0.94863261]\n",
      " [-0.95313783 -0.95280073 -0.95295751 -0.95297352]\n",
      " [-0.95893076 -0.95860987 -0.95877273 -0.95876139]\n",
      " [-0.95711507 -0.95680904 -0.95732616 -0.95696715]\n",
      " [-0.95495353 -0.95460157 -0.95512737 -0.95476776]]\n"
     ]
    }
   ],
   "source": [
    "scaler = MinMaxScaler(feature_range=(-1, 1))\n",
    "price = scaler.fit_transform(price.values)\n",
    "print(price[:5])"
   ]
  },
  {
   "cell_type": "markdown",
   "metadata": {},
   "source": [
    "## Créer des ensembles de test et d'entraînement\n"
   ]
  },
  {
   "cell_type": "markdown",
   "metadata": {},
   "source": [
    "Ci-dessous, nous avons défini notre fenêtre de train comme 7\n"
   ]
  },
  {
   "cell_type": "code",
   "execution_count": 10,
   "metadata": {},
   "outputs": [
    {
     "name": "stdout",
     "output_type": "stream",
     "text": [
      "Length =  9400\n",
      "size of data :  9393\n",
      "size of test :  20\n",
      "size of train :  9373\n"
     ]
    }
   ],
   "source": [
    "train_window = 7\n",
    "import numpy as np\n",
    "def create_in_out_sequences(price, tw):\n",
    "    inout_seq = []\n",
    "    L = len(price)\n",
    "    print('Length = ', L)\n",
    "    \n",
    "    for i in range(L-tw):\n",
    "        data_seq = price[i:i+tw]\n",
    "        data_label = price[i+tw:i+tw+1][0][3]\n",
    "        inout_seq.append((data_seq ,data_label))\n",
    "    \n",
    "    data = inout_seq;\n",
    "    print('size of data : ', len(data))\n",
    "    \n",
    "    test_set_size = 20\n",
    "    train_set_size = len(data) - (test_set_size);\n",
    "    print('size of test : ', test_set_size)\n",
    "    print('size of train : ', train_set_size)\n",
    "    \n",
    "    train = data[:train_set_size]\n",
    "    test = data[train_set_size:]\n",
    "    train = train[:-(tw-1)]\n",
    "    return train, test\n",
    "    \n",
    "train,test = create_in_out_sequences(price, train_window)"
   ]
  },
  {
   "cell_type": "markdown",
   "metadata": {},
   "source": [
    "La méthode `create_in_out_sequences` crée des étiquettes pour l'ensemble de données et isole les points de données que nous saisissons dans le modèle, en tenant compte de la taille de l'entraînement et du test et renvoie les ensembles d'entraînement et de test.\n"
   ]
  },
  {
   "cell_type": "markdown",
   "metadata": {},
   "source": [
    "Imprimons les cinq premiers éléments des données de test et les cinq derniers éléments de l'ensemble de train pour confirmer son formatage\n"
   ]
  },
  {
   "cell_type": "code",
   "execution_count": 11,
   "metadata": {},
   "outputs": [
    {
     "name": "stdout",
     "output_type": "stream",
     "text": [
      "(array([[-0.52820808, -0.53303223, -0.53350981, -0.53283172],\n",
      "       [-0.52982203, -0.53404883, -0.53440669, -0.5345102 ],\n",
      "       [-0.53022552, -0.5352397 , -0.53215004, -0.53676747],\n",
      "       [-0.53071547, -0.5332065 , -0.53512997, -0.53233975],\n",
      "       [-0.52581598, -0.52789114, -0.5297198 , -0.52378816],\n",
      "       [-0.51503711, -0.52013593, -0.52196618, -0.51390537],\n",
      "       [-0.51189567, -0.51447202, -0.51401004, -0.51558385]]), np.float64(-0.5163652148748373))\n",
      "(array([[-0.56112112, -0.56992463, -0.56034371, -0.57013457],\n",
      "       [-0.56803804, -0.58165473, -0.56843004, -0.58234698],\n",
      "       [-0.57700122, -0.59556763, -0.57774595, -0.58046592],\n",
      "       [-0.55970891, -0.5744514 , -0.57360876, -0.56096079],\n",
      "       [-0.55723035, -0.56242648, -0.56362742, -0.55624367],\n",
      "       [-0.54918942, -0.55885386, -0.56045943, -0.54747504],\n",
      "       [-0.53319403, -0.54107789, -0.54094519, -0.53121111]]), np.float64(-0.5328317175517292))\n"
     ]
    }
   ],
   "source": [
    "print(test[0])\n",
    "print(train[-1])"
   ]
  },
  {
   "cell_type": "markdown",
   "metadata": {},
   "source": [
    "Nous pouvons voir que le type de données des données du train est un tableau et que les données sont toutes normalisées.\n"
   ]
  },
  {
   "cell_type": "markdown",
   "metadata": {},
   "source": [
    "## Définir le LSTM et la méthode forward\n"
   ]
  },
  {
   "cell_type": "markdown",
   "metadata": {},
   "source": [
    "Il s'agit de la méthode LSTM. Le modèle comprend quatre entrées représentant les valeurs d'ouverture, de plus haut, de plus bas et de clôture."
   ]
  },
  {
   "cell_type": "code",
   "execution_count": 15,
   "metadata": {},
   "outputs": [],
   "source": [
    "class LSTM(nn.Module):\n",
    "    def __init__(self, input_size=4, hidden_layer_size=100, output_size=1):\n",
    "        super().__init__()\n",
    "        self.hidden_layer_size = hidden_layer_size\n",
    "\n",
    "        self.lstm = nn.LSTM(input_size, hidden_layer_size)\n",
    "\n",
    "        self.linear = nn.Linear(hidden_layer_size, output_size)\n",
    "\n",
    "    def forward(self, input_seq):\n",
    "        hidden_cell = (torch.zeros(1,1,self.hidden_layer_size),\n",
    "                       torch.zeros(1,1,self.hidden_layer_size),\n",
    "                      )\n",
    "        lstm_out, hidden_cell = self.lstm(input_seq.view(len(input_seq), 1, -1), hidden_cell)\n",
    "        predictions = self.linear(lstm_out.view(len(input_seq), -1))\n",
    "        return predictions[-1]"
   ]
  },
  {
   "cell_type": "markdown",
   "metadata": {},
   "source": [
    "- `self.hidden_layer_size` stocke la taille de la couche cachée, par défaut 100 dans ce cas.\n",
    "\n",
    "- `self.lstm` initialise une couche LSTM. La couche LSTM reçoit des séquences d'entrée de taille input_size et produit des séquences de sortie de taille hidden_layer_size.\n",
    "\n",
    "- `self.linear` initialise une couche linéaire entièrement connectée. Elle mappe la sortie LSTM à la taille output_size souhaitée.\n",
    "\n",
    "- La méthode `forward` reçoit une séquence d'entrée et produit une prédiction."
   ]
  },
  {
   "cell_type": "code",
   "execution_count": 16,
   "metadata": {},
   "outputs": [],
   "source": [
    "model = LSTM()\n",
    "loss_function = nn.MSELoss()\n",
    "optimizer = torch.optim.Adam(model.parameters(), lr=0.001)"
   ]
  },
  {
   "cell_type": "markdown",
   "metadata": {},
   "source": [
    "Nous devons définir un objet de méthode `LSTM()`, la fonction de perte et l'optimiseur afin de pouvoir l'utiliser lorsque nous formons le modèle. \n"
   ]
  },
  {
   "cell_type": "markdown",
   "metadata": {},
   "source": [
    "## Entraîner le modèle\n"
   ]
  },
  {
   "cell_type": "markdown",
   "metadata": {},
   "source": [
    "Maintenant que tous les paramètres nécessaires ont été définis, nous pouvons utiliser les méthodes `LSTM()` et `create_in_out_sequence()` pour entraîner le modèle. Nous l'entraînons sur 5 époques.\n",
    "\n",
    "_Remarque : L'exécution de cette cellule sera longue._\n"
   ]
  },
  {
   "cell_type": "code",
   "execution_count": null,
   "metadata": {},
   "outputs": [
    {
     "data": {
      "application/vnd.jupyter.widget-view+json": {
       "model_id": "7e3fc76cb847402eb1121e30712a39bb",
       "version_major": 2,
       "version_minor": 0
      },
      "text/plain": [
       "  0%|          | 0/5 [00:00<?, ?it/s]"
      ]
     },
     "metadata": {},
     "output_type": "display_data"
    },
    {
     "data": {
      "application/vnd.jupyter.widget-view+json": {
       "model_id": "4499bf2ead734e58b5698f9449450d02",
       "version_major": 2,
       "version_minor": 0
      },
      "text/plain": [
       "  0%|          | 0/9367 [00:00<?, ?it/s]"
      ]
     },
     "metadata": {},
     "output_type": "display_data"
    },
    {
     "name": "stdout",
     "output_type": "stream",
     "text": [
      "epoch:   0 loss: 0.0019594279\n"
     ]
    },
    {
     "data": {
      "application/vnd.jupyter.widget-view+json": {
       "model_id": "4c851c1124a24947ae618bbeb8b7fb1a",
       "version_major": 2,
       "version_minor": 0
      },
      "text/plain": [
       "  0%|          | 0/9367 [00:00<?, ?it/s]"
      ]
     },
     "metadata": {},
     "output_type": "display_data"
    },
    {
     "name": "stdout",
     "output_type": "stream",
     "text": [
      "epoch:   1 loss: 0.0010514262\n"
     ]
    },
    {
     "data": {
      "application/vnd.jupyter.widget-view+json": {
       "model_id": "233af5285b724e65941befd6f20d9322",
       "version_major": 2,
       "version_minor": 0
      },
      "text/plain": [
       "  0%|          | 0/9367 [00:00<?, ?it/s]"
      ]
     },
     "metadata": {},
     "output_type": "display_data"
    },
    {
     "name": "stdout",
     "output_type": "stream",
     "text": [
      "epoch:   2 loss: 0.0009491631\n"
     ]
    },
    {
     "data": {
      "application/vnd.jupyter.widget-view+json": {
       "model_id": "eee42dcdf262451eb67f9a0d2edc68a6",
       "version_major": 2,
       "version_minor": 0
      },
      "text/plain": [
       "  0%|          | 0/9367 [00:00<?, ?it/s]"
      ]
     },
     "metadata": {},
     "output_type": "display_data"
    },
    {
     "name": "stdout",
     "output_type": "stream",
     "text": [
      "epoch:   3 loss: 0.0008426317\n"
     ]
    },
    {
     "data": {
      "application/vnd.jupyter.widget-view+json": {
       "model_id": "eec6bae2d05042f1a55208d1cc0fee8c",
       "version_major": 2,
       "version_minor": 0
      },
      "text/plain": [
       "  0%|          | 0/9367 [00:00<?, ?it/s]"
      ]
     },
     "metadata": {},
     "output_type": "display_data"
    }
   ],
   "source": [
    "from tqdm.notebook import tqdm\n",
    "        \n",
    "epochs = 5\n",
    "for i in tqdm(range(epochs)):\n",
    "    epoch_loss = 0\n",
    "    for seq, labels in tqdm(train):\n",
    "        seq = torch.from_numpy(np.array(seq)).type(torch.FloatTensor)\n",
    "        labels = torch.from_numpy(np.array(labels)).type(torch.FloatTensor)\n",
    "\n",
    "        optimizer.zero_grad()\n",
    "\n",
    "        y_pred = model(seq)\n",
    "        \n",
    "        labels = labels.view(1)\n",
    "        \n",
    "        single_loss = loss_function(y_pred, labels)\n",
    "        single_loss.backward()\n",
    "        optimizer.step()\n",
    "\n",
    "        epoch_loss += single_loss.item()\n",
    "\n",
    "    average_loss = epoch_loss / len(train)\n",
    "    print(f'epoch: {i:3} loss: {average_loss:.10f}')"
   ]
  },
  {
   "cell_type": "markdown",
   "metadata": {},
   "source": [
    "La méthode suivante nous permet de prédire les valeurs à l’aide du modèle formé.\n"
   ]
  },
  {
   "cell_type": "code",
   "execution_count": 19,
   "metadata": {},
   "outputs": [],
   "source": [
    "model.eval()\n",
    "actual = []\n",
    "pred = []\n",
    "\n",
    "for seq, labels in test:\n",
    "    seq = torch.from_numpy(np.array(seq)).type(torch.FloatTensor)\n",
    "    labels = torch.from_numpy(np.array(labels)).type(torch.FloatTensor)\n",
    "    actual.append(labels.item())\n",
    "    with torch.no_grad():\n",
    "        pred.append(model(seq).item())\n",
    "\n",
    "actual = np.array(actual)\n",
    "pred = np.array(pred)"
   ]
  },
  {
   "cell_type": "markdown",
   "metadata": {},
   "source": [
    "Ensuite, notre objectif est de convertir les données prédites et réelles en tenseurs. \n"
   ]
  },
  {
   "cell_type": "code",
   "execution_count": 20,
   "metadata": {},
   "outputs": [],
   "source": [
    "pred = torch.from_numpy(np.array(pred)).type(torch.Tensor)\n",
    "actual = torch.from_numpy(np.array(actual)).type(torch.Tensor)"
   ]
  },
  {
   "cell_type": "markdown",
   "metadata": {},
   "source": [
    "Nous pouvons imprimer les données pour confirmer qu'elles sont formatées avec le type de données correct."
   ]
  },
  {
   "cell_type": "code",
   "execution_count": 21,
   "metadata": {},
   "outputs": [
    {
     "name": "stdout",
     "output_type": "stream",
     "text": [
      "tensor([-0.5437, -0.5438, -0.5491, -0.5502, -0.5469, -0.5463, -0.5506, -0.5462,\n",
      "        -0.5431, -0.5397, -0.5411, -0.5443, -0.5436, -0.5453, -0.5494, -0.5481,\n",
      "        -0.5539, -0.5571, -0.5618, -0.5534])\n",
      "tensor([-0.5164, -0.5254, -0.5219, -0.5201, -0.5206, -0.5253, -0.5198, -0.5110,\n",
      "        -0.5059, -0.5110, -0.5154, -0.5148, -0.5167, -0.5245, -0.5247, -0.5362,\n",
      "        -0.5432, -0.5545, -0.5318, -0.5447])\n"
     ]
    }
   ],
   "source": [
    "print(pred)\n",
    "print(actual)"
   ]
  },
  {
   "cell_type": "markdown",
   "metadata": {},
   "source": [
    "Il existe 20 tenseurs individuels dans les ensembles prédits et réels. Rappelons que nous avons précédemment défini la variable « test_set_size » à 20 dans la méthode « create_inout_sequence ». Ces valeurs représentent les valeurs de clôture prédites et réelles pour les 20 derniers jours."
   ]
  },
  {
   "cell_type": "markdown",
   "metadata": {},
   "source": [
    "Enfin, pour mieux comprendre et analyser la précision des valeurs prédictives du modèle, nous devons convertir les valeurs normalisées en leur forme scalaire."
   ]
  },
  {
   "cell_type": "code",
   "execution_count": 22,
   "metadata": {},
   "outputs": [
    {
     "name": "stdout",
     "output_type": "stream",
     "text": [
      "[168.68003301 168.64773788 166.82186835 166.44182385 167.57013502\n",
      " 167.7662126  166.29423016 167.81090676 168.89234055 170.04800371\n",
      " 169.57049712 168.47901229 168.72069027 168.13546459 166.6893924\n",
      " 167.16220301 165.15454979 164.05964596 162.41869078 165.32735346]\n"
     ]
    },
    {
     "name": "stderr",
     "output_type": "stream",
     "text": [
      "/tmp/ipykernel_299/1152415154.py:2: DeprecationWarning: __array__ implementation doesn't accept a copy keyword, so passing copy=False failed. __array__ must implement 'dtype' and 'copy' keyword arguments. To learn more, see the migration guide https://numpy.org/devdocs/numpy_2_0_migration_guide.html#adapting-to-changes-in-the-copy-keyword\n",
      "  pred_new = scaler.inverse_transform(np.c_[np.zeros(20),np.zeros(20),np.zeros(20),np.array(pred)])\n"
     ]
    }
   ],
   "source": [
    "import numpy as np\n",
    "pred_new = scaler.inverse_transform(np.c_[np.zeros(20),np.zeros(20),np.zeros(20),np.array(pred)])\n",
    "print(pred_new[:,3])"
   ]
  },
  {
   "cell_type": "code",
   "execution_count": 23,
   "metadata": {},
   "outputs": [
    {
     "name": "stdout",
     "output_type": "stream",
     "text": [
      "[178.11999474 174.99999256 176.21000958 176.81999212 176.67000924\n",
      " 175.03000149 176.94000725 179.97999249 181.71999569 179.97000324\n",
      " 178.44000078 178.65000152 178.0199993  175.2999995  175.24000223\n",
      " 171.27000783 168.84501005 164.93999725 172.77000135 168.34000729]\n"
     ]
    },
    {
     "name": "stderr",
     "output_type": "stream",
     "text": [
      "/tmp/ipykernel_299/1021062276.py:1: DeprecationWarning: __array__ implementation doesn't accept a copy keyword, so passing copy=False failed. __array__ must implement 'dtype' and 'copy' keyword arguments. To learn more, see the migration guide https://numpy.org/devdocs/numpy_2_0_migration_guide.html#adapting-to-changes-in-the-copy-keyword\n",
      "  actual_new = scaler.inverse_transform(np.c_[np.zeros(20),np.zeros(20),np.zeros(20),np.array(actual)])\n"
     ]
    }
   ],
   "source": [
    "actual_new = scaler.inverse_transform(np.c_[np.zeros(20),np.zeros(20),np.zeros(20),np.array(actual)])\n",
    "print(actual_new[:,3])"
   ]
  },
  {
   "cell_type": "markdown",
   "metadata": {},
   "source": [
    "## Evaluate the model\n"
   ]
  },
  {
   "cell_type": "code",
   "execution_count": 24,
   "metadata": {},
   "outputs": [
    {
     "name": "stdout",
     "output_type": "stream",
     "text": [
      "Mean Absolute Error (MAE): 2.0448029240965857\n",
      "Root Mean Squared Error (RMSE): 4.367241694436967\n"
     ]
    }
   ],
   "source": [
    "from sklearn.metrics import mean_absolute_error, mean_squared_error\n",
    "\n",
    "mae = mean_absolute_error(actual_new, pred_new)\n",
    "print(\"Mean Absolute Error (MAE):\", mae)\n",
    "\n",
    "rmse = np.sqrt(mean_squared_error(actual_new, pred_new))\n",
    "print(\"Root Mean Squared Error (RMSE):\", rmse)"
   ]
  },
  {
   "cell_type": "markdown",
   "metadata": {},
   "source": [
    "Le modèle a bien prédit la valeur de clôture de l'action. Nous pouvons représenter ces valeurs visuellement pour visualiser leur proximité.\n"
   ]
  },
  {
   "cell_type": "code",
   "execution_count": 25,
   "metadata": {},
   "outputs": [
    {
     "data": {
      "image/png": "[encoded data removed]",
      "text/plain": [
       "<Figure size 640x480 with 1 Axes>"
      ]
     },
     "metadata": {},
     "output_type": "display_data"
    }
   ],
   "source": [
    "fig, ax = plt.subplots()\n",
    "\n",
    "ax.plot(actual_new[:,3], 'r-', label='Actual')\n",
    "ax.plot(pred_new[:,3], 'c-', label='Predicted')\n",
    "\n",
    "ax.set_ylabel('Stock Value (dollars)')\n",
    "\n",
    "ax.set_ylim(min(min(actual_new[:,3]), min(pred_new[:,3])) - 5, max(max(actual_new[:,3]), max(pred_new[:,3])) + 5)\n",
    "plt.xticks([])\n",
    "\n",
    "ax.legend(loc='upper left')\n",
    "\n",
    "plt.show()"
   ]
  },
  {
   "cell_type": "markdown",
   "metadata": {},
   "source": [
    "Nous pouvons également tracer la différence entre la valeur réelle et la valeur prévue."
   ]
  },
  {
   "cell_type": "code",
   "execution_count": 26,
   "metadata": {},
   "outputs": [
    {
     "data": {
      "image/png": "[encoded data removed]",
      "text/plain": [
       "<Figure size 640x480 with 1 Axes>"
      ]
     },
     "metadata": {},
     "output_type": "display_data"
    }
   ],
   "source": [
    "difference = actual_new - pred_new\n",
    "fig = plt.figure()\n",
    "diffGraph = fig.add_axes([0,0,1,1])\n",
    "diffGraph.plot(difference[:, 3], 'b')\n",
    "diffGraph.set_ylabel('Difference between Actual and Predicted Stock Value (dollars)')\n",
    "plt.xticks([])\n",
    "plt.show()"
   ]
  },
  {
   "cell_type": "markdown",
   "metadata": {},
   "source": [
    "D’après ce graphique, la valeur prédite semble souvent être inférieure à la valeur réelle.\n"
   ]
  },
  {
   "cell_type": "markdown",
   "metadata": {},
   "source": [
    "### DIARRA ABOUBACAR\n"
   ]
  },
  {
   "cell_type": "markdown",
   "metadata": {},
   "source": [
    "Etudiant a École Nationale des Sciences Appliquées_Tétouan\n"
   ]
  }
 ],
 "metadata": {
  "kernelspec": {
   "display_name": "Python 3 (ipykernel)",
   "language": "python",
   "name": "python3"
  },
  "language_info": {
   "codemirror_mode": {
    "name": "ipython",
    "version": 3
   },
   "file_extension": ".py",
   "mimetype": "text/x-python",
   "name": "python",
   "nbconvert_exporter": "python",
   "pygments_lexer": "ipython3",
   "version": "3.11.5"
  },
  "prev_pub_hash": "8624fe668f0264ca786b25fa9bd8d370f5cc97658b171ef519f3c1f32ad06f10"
 },
 "nbformat": 4,
 "nbformat_minor": 4
}
